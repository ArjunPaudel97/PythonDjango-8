{
 "cells": [
  {
   "cell_type": "markdown",
   "id": "07fca1e5-75f7-41db-be66-223f5a76de4b",
   "metadata": {},
   "source": [
    "# Looping Statement"
   ]
  },
  {
   "cell_type": "markdown",
   "id": "64422169-3a12-4f68-83a4-6a927b1e842a",
   "metadata": {},
   "source": [
    "# while loop"
   ]
  },
  {
   "cell_type": "code",
   "execution_count": 5,
   "id": "218b4ea0-1556-4006-b224-489a4841b8a4",
   "metadata": {},
   "outputs": [
    {
     "name": "stdout",
     "output_type": "stream",
     "text": [
      "1\n",
      "2\n",
      "3\n",
      "4\n",
      "5\n",
      "6\n",
      "7\n",
      "8\n",
      "9\n",
      "10\n"
     ]
    }
   ],
   "source": [
    "#Example\n",
    "#Print 1 to 10\n",
    "start = 1\n",
    "stop = 10\n",
    "while start<= stop:\n",
    "    print(start)\n",
    "    start += 1"
   ]
  },
  {
   "cell_type": "code",
   "execution_count": 6,
   "id": "ee660b5b-7455-44ed-9c70-86f1fd532cbc",
   "metadata": {},
   "outputs": [
    {
     "name": "stdout",
     "output_type": "stream",
     "text": [
      "10\n",
      "9\n",
      "8\n",
      "7\n",
      "6\n",
      "5\n",
      "4\n",
      "3\n",
      "2\n",
      "1\n"
     ]
    }
   ],
   "source": [
    "start = 10\n",
    "stop = 1\n",
    "while start>= stop:\n",
    "    print(start)\n",
    "    start -= 1"
   ]
  },
  {
   "cell_type": "code",
   "execution_count": 8,
   "id": "5d003054-3ee9-47eb-b7ae-3fc987fd573f",
   "metadata": {},
   "outputs": [
    {
     "name": "stdout",
     "output_type": "stream",
     "text": [
      "1\n",
      "2\n",
      "3\n",
      "4\n",
      "5\n",
      "6\n",
      "7\n",
      "8\n",
      "9\n",
      "10\n",
      "Sum:  55\n"
     ]
    }
   ],
   "source": [
    "start = 1\n",
    "stop = 10\n",
    "sum = 0\n",
    "while start<= stop:\n",
    "    print(start)\n",
    "    sum = sum + start\n",
    "    start += 1\n",
    "print(\"Sum: \",sum)"
   ]
  },
  {
   "cell_type": "markdown",
   "id": "bcd2fb1c-b932-4705-a5e4-a7b3be47d659",
   "metadata": {},
   "source": [
    "# for Loop"
   ]
  },
  {
   "cell_type": "code",
   "execution_count": 12,
   "id": "0a4de791-bcc1-4a04-9b65-1cdc1a5de31e",
   "metadata": {},
   "outputs": [
    {
     "name": "stdout",
     "output_type": "stream",
     "text": [
      "10\n",
      "9\n",
      "8\n",
      "7\n",
      "6\n",
      "5\n",
      "4\n",
      "3\n",
      "2\n",
      "1\n",
      "55\n",
      "5.5\n"
     ]
    }
   ],
   "source": [
    "# Print 1 to 10\n",
    "total = 0\n",
    "average = 0\n",
    "c = 0\n",
    "for n in range(10,0,-1):\n",
    "    print(n)\n",
    "    total += n\n",
    "    c+=1\n",
    "average = total/c\n",
    "print(total)\n",
    "print(average)"
   ]
  },
  {
   "cell_type": "code",
   "execution_count": 14,
   "id": "13269dae-947c-4715-ab45-eecd8859e528",
   "metadata": {},
   "outputs": [
    {
     "name": "stdout",
     "output_type": "stream",
     "text": [
      "1 1\n",
      "1 2\n",
      "1 3\n",
      "1 4\n",
      "1 5\n",
      "2 1\n",
      "2 2\n",
      "2 3\n",
      "2 4\n",
      "2 5\n",
      "3 1\n",
      "3 2\n",
      "3 3\n",
      "3 4\n",
      "3 5\n",
      "4 1\n",
      "4 2\n",
      "4 3\n",
      "4 4\n",
      "4 5\n",
      "5 1\n",
      "5 2\n",
      "5 3\n",
      "5 4\n",
      "5 5\n"
     ]
    }
   ],
   "source": [
    "for i in range(1,6,1):\n",
    "    for j in range(1,6,1):\n",
    "        print(i,j)"
   ]
  },
  {
   "cell_type": "code",
   "execution_count": 29,
   "id": "317f27b0-ab39-4dda-a693-826ad14cf67b",
   "metadata": {},
   "outputs": [
    {
     "name": "stdout",
     "output_type": "stream",
     "text": [
      "array('i', [5, 6, 7, 4, 3])\n"
     ]
    }
   ],
   "source": [
    "from array import array\n",
    "arr1 = array('i',[5,6,7,4,3,1])\n",
    "print(arr1)"
   ]
  },
  {
   "cell_type": "code",
   "execution_count": 48,
   "id": "fc8730d1-05c1-401f-908b-14cce6323c97",
   "metadata": {},
   "outputs": [
    {
     "ename": "ModuleNotFoundError",
     "evalue": "No module named 'goto'",
     "output_type": "error",
     "traceback": [
      "\u001b[1;31m---------------------------------------------------------------------------\u001b[0m",
      "\u001b[1;31mModuleNotFoundError\u001b[0m                       Traceback (most recent call last)",
      "Input \u001b[1;32mIn [48]\u001b[0m, in \u001b[0;36m<cell line: 1>\u001b[1;34m()\u001b[0m\n\u001b[1;32m----> 1\u001b[0m \u001b[38;5;28;01mfrom\u001b[39;00m \u001b[38;5;21;01mgoto\u001b[39;00m \u001b[38;5;28;01mimport\u001b[39;00m label,goto,comefrom\n\u001b[0;32m      2\u001b[0m label\u001b[38;5;241m.\u001b[39mmain\n\u001b[0;32m      3\u001b[0m n \u001b[38;5;241m=\u001b[39m \u001b[38;5;28minput\u001b[39m(\u001b[38;5;124m\"\u001b[39m\u001b[38;5;124mEnter any no. :\u001b[39m\u001b[38;5;124m\"\u001b[39m)\n",
      "\u001b[1;31mModuleNotFoundError\u001b[0m: No module named 'goto'"
     ]
    }
   ],
   "source": [
    "\n",
    "from goto import label,goto\n",
    "label.main\n",
    "n = input(\"Enter any no. :\")\n",
    "n = int(n)\n",
    "choice = None\n",
    "result = False\n",
    "for i in range(0,len(arr1),1):\n",
    "    if arr1[i] == n:\n",
    "        print(\"Found at\",i,\"index\")\n",
    "        result = True\n",
    "        choice = input(\"Do want to search another num. ?(y/n)\")\n",
    "        if choice == \"y\":\n",
    "            goto .main\n",
    "        else :    \n",
    "            break\n",
    "        \n",
    "    if result == False:\n",
    "        print(\"Not found\")\n",
    "        break"
   ]
  },
  {
   "cell_type": "code",
   "execution_count": null,
   "id": "f16813d9-1b37-470e-b3cd-28faf5d5e111",
   "metadata": {},
   "outputs": [],
   "source": []
  },
  {
   "cell_type": "code",
   "execution_count": null,
   "id": "93c17664-d4b4-4f80-a3e5-874f02902497",
   "metadata": {},
   "outputs": [],
   "source": []
  },
  {
   "cell_type": "code",
   "execution_count": null,
   "id": "144fb915-150f-408b-a4a4-03aff5aa40fd",
   "metadata": {},
   "outputs": [],
   "source": []
  }
 ],
 "metadata": {
  "kernelspec": {
   "display_name": "Python 3 (ipykernel)",
   "language": "python",
   "name": "python3"
  },
  "language_info": {
   "codemirror_mode": {
    "name": "ipython",
    "version": 3
   },
   "file_extension": ".py",
   "mimetype": "text/x-python",
   "name": "python",
   "nbconvert_exporter": "python",
   "pygments_lexer": "ipython3",
   "version": "3.10.4"
  }
 },
 "nbformat": 4,
 "nbformat_minor": 5
}
