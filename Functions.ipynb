{
 "cells": [
  {
   "cell_type": "markdown",
   "id": "22f4b6d0-76ca-40e2-a034-d0f88a224124",
   "metadata": {},
   "source": [
    "# Why Function?"
   ]
  },
  {
   "cell_type": "code",
   "execution_count": null,
   "id": "8b7ad3e2-86dc-47b1-aed5-86f9d322a174",
   "metadata": {},
   "outputs": [],
   "source": [
    "#grouping sattements in one block\n",
    "# to perform specific task\n",
    "\n",
    "# sum,diff, prd, div, rem, sqrt, pow, and others\n",
    "# input process, output\n",
    "# write on file, read from file\n",
    "# save a database, and retrieve from database\n"
   ]
  },
  {
   "cell_type": "code",
   "execution_count": 1,
   "id": "2e529bfc-8653-4e1a-9df6-cfedbebe4ffd",
   "metadata": {},
   "outputs": [
    {
     "name": "stdout",
     "output_type": "stream",
     "text": [
      "Hello from Broadway\n",
      "Hello from Broadway\n",
      "Hello from Broadway\n",
      "Hello from Broadway\n",
      "Hello from Broadway\n"
     ]
    }
   ],
   "source": [
    "def function_name():\n",
    "    statements\n",
    "    pass\n",
    "\n",
    "\n",
    "def f1():\n",
    "    print(\"Hello from Broadway\")\n",
    "    \n",
    "for i in range(5):\n",
    "    f1()\n",
    "    "
   ]
  },
  {
   "cell_type": "code",
   "execution_count": 4,
   "id": "594e2034-d3ec-44cc-9926-f6ba25611f76",
   "metadata": {},
   "outputs": [
    {
     "name": "stdout",
     "output_type": "stream",
     "text": [
      "23\n"
     ]
    }
   ],
   "source": [
    "def calc_sum():\n",
    "    print(20+3)\n",
    "    \n",
    "calc_sum()"
   ]
  },
  {
   "cell_type": "code",
   "execution_count": 14,
   "id": "f5614f69-1725-4a18-b011-629d499f0fa9",
   "metadata": {},
   "outputs": [
    {
     "name": "stdout",
     "output_type": "stream",
     "text": [
      "Enter first number? 15\n",
      "Enter second number? 3\n",
      "18\n"
     ]
    },
    {
     "data": {
      "text/plain": [
       "18"
      ]
     },
     "execution_count": 14,
     "metadata": {},
     "output_type": "execute_result"
    }
   ],
   "source": [
    "\n",
    "def sum(n1, n2):\n",
    "    n1 = int(n1)\n",
    "    n2 = int(n2)\n",
    "    print(n1 + n2)\n",
    "    \n",
    "def sum2(n1, n2):\n",
    "    n1 = int(n1)\n",
    "    n2 = int(n2)\n",
    "    return(n1 +n2)\n",
    "    \n",
    "\n",
    "#num1 = input(\"Enter first number?\")\n",
    "#num2 = input(\"Enter second number?\")\n",
    "#sum(num1,num2)\n",
    "num1 = 6\n",
    "num2 = 7\n",
    "num2(num1, num2)"
   ]
  },
  {
   "cell_type": "code",
   "execution_count": 2,
   "id": "0d9788c3-dee4-43cb-ad83-e33bde764b0c",
   "metadata": {},
   "outputs": [
    {
     "name": "stdout",
     "output_type": "stream",
     "text": [
      "Enter your id:  1\n",
      "Enter your name:  Arjun\n",
      "Enter your math's marks:  50\n",
      "Enter your Science's marks:  34\n",
      "Enter your Nepali's marks:  54\n"
     ]
    },
    {
     "name": "stdout",
     "output_type": "stream",
     "text": [
      "Total:  138\n",
      "Average:  46.0\n",
      "Result:  FAIL\n"
     ]
    }
   ],
   "source": [
    "#Task\n",
    "\n",
    "# Enter id : _1\n",
    "# Enter name : Raj\n",
    "# Enter Sub1 : _56\n",
    "# Enter Sub2 : _54\n",
    "# Enter SUb3 : _45\n",
    "# Total : 155\n",
    "# Average : 51.xxx\n",
    "# Result : PASS\n",
    "# Create functions to solve the result processing system \n",
    "\n",
    "\n",
    "\n",
    "def cal(s1, s2, s3) :\n",
    "    tot = s1 + s2 + s3\n",
    "    print(\"Total: \", tot)\n",
    "    av(tot)\n",
    "\n",
    "\n",
    "def av(total) :\n",
    "    avg = total/3\n",
    "    print(\"Average: \", avg)\n",
    "    result(avg)\n",
    "\n",
    "def result(div) :\n",
    "    if div >= 50:\n",
    "        res = \"PASS\"\n",
    "    else:\n",
    "        res = \"FAIL\"\n",
    "    \n",
    "    print(\"Result: \", res)\n",
    "\n",
    "\n",
    "n_id = input(\"Enter your id: \")\n",
    "name = input(\"Enter your name: \")\n",
    "sub_1 = input(\"Enter your Math's marks: \")\n",
    "sub_2 = input(\"Enter your Science's marks: \")\n",
    "sub_3 = input(\"Enter your Nepali's marks: \")\n",
    "sub_1 = int(sub_1)\n",
    "sub_2 = int(sub_2)\n",
    "sub_3 = int(sub_3)\n",
    "cal(sub_1, sub_2, sub_3)\n",
    "\n",
    "\n",
    "\n"
   ]
  },
  {
   "cell_type": "code",
   "execution_count": 5,
   "id": "a624546c-7b5c-411f-8426-fabc81a8d63e",
   "metadata": {},
   "outputs": [],
   "source": [
    "# Function\n",
    "def f1():\n",
    "    print(\"Hello\")\n",
    "def f2(num1, num2):\n",
    "    print(num1+num2)\n",
    "def f3():\n",
    "    return 10+34\n",
    "def f4(num1, num2):\n",
    "    return num1+num2\n"
   ]
  },
  {
   "cell_type": "code",
   "execution_count": 2,
   "id": "9c01e5a4-2c24-4043-88c6-fdd65e8c1098",
   "metadata": {},
   "outputs": [
    {
     "name": "stdout",
     "output_type": "stream",
     "text": [
      "Hello\n"
     ]
    }
   ],
   "source": [
    "f1()"
   ]
  },
  {
   "cell_type": "code",
   "execution_count": 6,
   "id": "efa42264-66aa-4562-abe0-46d2b26be755",
   "metadata": {},
   "outputs": [
    {
     "name": "stdout",
     "output_type": "stream",
     "text": [
      "1Nepal\n"
     ]
    }
   ],
   "source": [
    "f2(\"1 \", \"Nepal\")"
   ]
  },
  {
   "cell_type": "code",
   "execution_count": 7,
   "id": "bb0c71d3-6a35-402a-ad1e-8791a90c107a",
   "metadata": {},
   "outputs": [
    {
     "data": {
      "text/plain": [
       "44"
      ]
     },
     "execution_count": 7,
     "metadata": {},
     "output_type": "execute_result"
    }
   ],
   "source": [
    "va1 = f3()\n",
    "print(var1)"
   ]
  },
  {
   "cell_type": "code",
   "execution_count": 9,
   "id": "e8d06176-174e-46f1-b8ad-9cdcd96b1a7e",
   "metadata": {},
   "outputs": [
    {
     "name": "stdout",
     "output_type": "stream",
     "text": [
      "68\n"
     ]
    }
   ],
   "source": [
    "var2 = f4(12, 56)\n",
    "print(var2)"
   ]
  },
  {
   "cell_type": "code",
   "execution_count": 13,
   "id": "ac8c6b9f-f1c8-427b-8307-19ac215fc027",
   "metadata": {},
   "outputs": [
    {
     "name": "stdout",
     "output_type": "stream",
     "text": [
      "15\n"
     ]
    }
   ],
   "source": [
    "def f5(num1 = 0, num2 = 0):\n",
    "    return num1 + num2\n",
    "var3 = f5(num1= 7, num2= 8)\n",
    "print(var3)"
   ]
  },
  {
   "cell_type": "code",
   "execution_count": null,
   "id": "e8fd9f4a-3328-4417-948b-638cc0d23df0",
   "metadata": {},
   "outputs": [],
   "source": []
  },
  {
   "cell_type": "code",
   "execution_count": null,
   "id": "a94b83b6-61e3-4e3e-8afa-bcc97f44eaaa",
   "metadata": {},
   "outputs": [],
   "source": []
  }
 ],
 "metadata": {
  "kernelspec": {
   "display_name": "Python 3 (ipykernel)",
   "language": "python",
   "name": "python3"
  },
  "language_info": {
   "codemirror_mode": {
    "name": "ipython",
    "version": 3
   },
   "file_extension": ".py",
   "mimetype": "text/x-python",
   "name": "python",
   "nbconvert_exporter": "python",
   "pygments_lexer": "ipython3",
   "version": "3.10.4"
  }
 },
 "nbformat": 4,
 "nbformat_minor": 5
}
